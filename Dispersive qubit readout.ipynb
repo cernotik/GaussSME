{
 "metadata": {
  "name": "",
  "signature": "sha256:ba1ce7c21771f10109c25e45dea62888e6e20dd54a4c94cd13677bde47d53ca1"
 },
 "nbformat": 3,
 "nbformat_minor": 0,
 "worksheets": [
  {
   "cells": [
    {
     "cell_type": "markdown",
     "metadata": {},
     "source": [
      "#Dispersive qubit readout using a thermal cavity\n",
      "\n",
      "Ondrej Cernotik\n",
      "\n",
      "23 February 2015\n",
      "\n",
      "The evolution of a qubit dispersively coupled to a thermal cavity that is countinuously monitored is given by the stochastic master equation\n",
      "$$\n",
      "\\mathrm{d}\\rho = -i\\chi[\\sigma_z r_\\phi, \\rho]\\mathrm{d}t+\\kappa\\{(\\bar{n}+1)\\mathcal{D}[a]+\\bar{n}\\mathcal{D}[a^\\dagger]\\}\\rho\\mathrm{d}t+\\sqrt{\\frac{\\kappa}{2\\bar{n}+1}}\\mathcal{H}[(\\bar{n}+1)a-\\bar{n}a^\\dagger]\\rho\\mathrm{d}W,\n",
      "$$\n",
      "where $\\chi$ is the qubit-cavity coupling, $r_\\phi = (ae^{i\\phi}+a^\\dagger e^{-i\\phi})/\\sqrt{2}$ is a quadrature of the cavity field which couples to an environment with $\\bar{n}$ thermal photons at a rate $\\kappa$, $\\mathcal{D}[O]\\rho = O\\rho O^\\dagger-\\frac{1}{2}(O^\\dagger O\\rho+\\rho O^\\dagger O)$ is a Lindblad term, and $\\mathcal{H}[O]\\rho = (O-\\langle O\\rangle)\\rho+\\mathrm{H.c.}$ is the measurment term.\n",
      "Since the QuTiP stochastic solver [1,2] treats the measurement operators also as Lindblad operators, i.e., corresponding to decay, it is necessary to rewrite the Lindblad terms in the stochastic master equation using the measurement operator. We have\n",
      "$$\n",
      "\\kappa(\\bar{n}+1)\\mathcal{D}[a]\\rho+\\kappa\\bar{n}\\mathcal{D}[a^\\dagger]\\rho =\n",
      "\\frac{\\kappa}{2\\bar{n}+1}\\mathcal{D}[(bar{n}+1)a-\\bar{n}a^\\dagger]\\rho\n",
      "+\\frac{2\\kappa\\bar{n}(\\bar{n}+1)}{2\\bar{n}+1}\\mathcal{D}[q]\\rho\n",
      "$$\n",
      "with $q = (a+a^\\dagger)/\\sqrt{2}$ being the amplitude quadrature of the cavity field.\n",
      "\n",
      "When the cavity evolves on a time scale much faster than the qubit-cavity coupling, $\\kappa\\gg\\chi$, its dynamics can be adiabatically eliminated from the equation of motion. Using Gaussian adiabatic elimination [3], the qubit dynamics is described by the equation\n",
      "$$\n",
      "\\mathrm{d}\\rho_q = \\frac{2\\chi^2}{\\kappa}(2\\bar{n}+1)\\mathcal{D}[\\sigma_z]\\rho_q\\mathrm{d}t+\\sqrt{\\frac{2\\chi^2}{\\kappa(2\\bar{n}+1)}}\\mathcal{H}[-i(2\\bar{n}\\cos\\phi+e^{-i\\phi})\\sigma_z]\\rho_q\\mathrm{d}W.\n",
      "$$\n",
      "We compare this method of adiabatic elimination with results obtained by density operator expansion [4] (this method is, in fact, used only to obtain the measurement term; the decay has been obtained using projection operator method [5] to account for thermal noise), which gives the equation\n",
      "$$\n",
      "\\mathrm{d}\\rho_q = \\frac{2\\chi^2}{\\kappa}(2\\bar{n}+1)\\mathcal{D}[\\sigma_z]\\rho_q\\mathrm{d}t+\\sqrt{\\frac{2\\chi^2}{\\kappa}}\\mathcal{H}[e^{-i(\\phi+\\pi/2)}\\sigma_z]\\rho_q\\mathrm{d}W;\n",
      "$$\n",
      "see Ref. [3] for details.\n",
      "\n",
      "The elimination methods and the exact solution are quantitatively compared using the trace distance of the two solutions. For a qubit, the trace distance of two density matrices is conveniently expressed using the expecation values of the Pauli operators\n",
      "$$\n",
      "D(\\rho_1, \\rho_2) = \\frac{1}{2}\\sqrt{\\sum_{i\\in\\{x,y,z\\}}(\\langle\\sigma_i^1\\rangle-\\langle\\sigma_i^2\\rangle)^2},\n",
      "$$\n",
      "with $\\langle\\sigma_i^j\\rangle = \\mathrm{tr}(\\rho_j\\sigma_i)$. We use ensemble averaging to obtain an average trace distance for each elimination method as a function of time; additional time averaging gives a single figure of merit for the performance of the elimination methods.\n",
      "\n",
      "\n",
      "**References**\n",
      "\n",
      "[1] J. R. Johansson, P. D. Nation, and F. Nori, [Computer Physics Communications **183**, 1760 (2012)](http://dx.doi.org/10.1016/j.cpc.2012.02.021).\n",
      "\n",
      "[2] J. R. Johansson, P. D. Nation, and F. Nori, [Computer Physics Communications **184**, 1234 (2013)](http://dx.doi.org/10.1016/j.cpc.2012.11.019).\n",
      "\n",
      "[3] O. Cernotik, D. Vasilyev, and K. Hammerer, in preparation.\n",
      "\n",
      "[4] A. Doherty and K. Jacobs, [Physical Review A **60**, 2700 (1999)](http://dx.doi.org/10.1103/PhysRevA.60.2700).\n",
      "\n",
      "[5] C. Gardiner and P. Zoller, [Quantum Noise: A Handbook of Markovian and Non-Markovian Quantum Stochastic Methods with Applications to Quantum Optics](http://books.google.com/books?hl=en&lr=&id=a_xsT8oGhdgC&pgis=1) (Springer, 2004)."
     ]
    },
    {
     "cell_type": "code",
     "collapsed": false,
     "input": [
      "%matplotlib inline"
     ],
     "language": "python",
     "metadata": {},
     "outputs": [
      {
       "output_type": "stream",
       "stream": "stderr",
       "text": [
        "Vendor:  Continuum Analytics, Inc.\n",
        "Package: mkl\n",
        "Message: trial mode expires in 29 days\n"
       ]
      }
     ],
     "prompt_number": 1
    },
    {
     "cell_type": "code",
     "collapsed": false,
     "input": [
      "from qutip import qeye, destroy, sigmax, sigmay, sigmaz, smesolve, ket2dm, basis, tensor, thermal_dm\n",
      "from numpy import linspace, cos, sin, pi, sqrt, exp\n",
      "from matplotlib.pyplot import subplots, plot"
     ],
     "language": "python",
     "metadata": {},
     "outputs": [],
     "prompt_number": 2
    },
    {
     "cell_type": "code",
     "collapsed": false,
     "input": [
      "def trace_dist(chi, phi, kappa, nbar, Ntraj, NFock, Nstep, Nsub, tmax, rhoq0):\n",
      "    #***** function trace_dist *****\n",
      "    #This function calculates the average trace distance for Gaussian adiabatic\n",
      "    #elimination and density operator expansion as functions of time.\n",
      "    #Input parameters:\n",
      "    #      chi: qubit-cavity coupling,\n",
      "    #      phi: phase of the field quadrature in the interaction,\n",
      "    #      kappa: intrinsic measurement (and decay) rate,\n",
      "    #      nbar: thermal occupation,\n",
      "    #      Ntraj: number of generated quantum trajectories,\n",
      "    #      NFock: Fock number cutoff,\n",
      "    #      Nstep: number of steps for evolution,\n",
      "    #      Nsub: number of substeps for the stochastic solver,\n",
      "    #      tmax: maximum time,\n",
      "    #      rhoq0: initial qubit state.\n",
      "    #Returns:\n",
      "    #      tlist: list of times,\n",
      "    #      D_gae: trace distance for Gaussian adiabatic elimination,\n",
      "    #      D_doe: trace distance for density operator expansion.\n",
      "    \n",
      "    #***** System operators *****\n",
      "    tlist = linspace(0,tmax,Nstep)\n",
      "    Id2 = qeye(2)\n",
      "    IdN = qeye(NFock) # identity operators on the qubit and the cavit field\n",
      "    a = tensor(Id2,destroy(NFock)) # field annihilation operator\n",
      "    q = (a+a.dag())/sqrt(2.)\n",
      "    p = -1j*(a-a.dag())/sqrt(2.) # field quadratures\n",
      "    sx = tensor(sigmax(),IdN)\n",
      "    sy = tensor(sigmay(),IdN)\n",
      "    sz = tensor(sigmaz(),IdN) # Pauli matrices\n",
      "    \n",
      "    #***** Full dynamics *****\n",
      "    H_full = chi*sz*(q*cos(phi)-p*sin(phi)) # Hamiltonian\n",
      "    c_op_full = [sqrt(2*kappa*nbar*(nbar+1)/(2*nbar+1))*q] # jump operators\n",
      "    sc_op_full = [sqrt(kappa/(2*nbar+1))*((nbar+1)*a-nbar*a.dag())] # measurement and jump operators\n",
      "    e_op_full = [sx, sy, sz] # operators whose evolution we are interested in\n",
      "    rho0 = tensor(rhoq0, thermal_dm(NFock, nbar)) # initial state\n",
      "    \n",
      "    #***** Gaussian adiabatic elimination *****\n",
      "    H_gae = 0*Id2\n",
      "    c_op_gae = [sqrt(2*chi*chi*(2*nbar+1)/kappa-(2*chi*chi/(kappa*(2*nbar+1)))*(2*nbar*cos(phi)+exp(-1j*phi))*(2*nbar*cos(phi)+exp(1j*phi)))*sigmaz()]\n",
      "    sc_op_gae = [-1j*sqrt(2*chi*chi/(kappa*(2*nbar+1)))*(2*nbar*cos(phi)+exp(-1j*phi))*sigmaz()]\n",
      "    e_op_gae = [sigmax(), sigmay(), sigmaz()]\n",
      "    \n",
      "    #***** Density operator expansion *****\n",
      "    H_doe = H_gae\n",
      "    c_op_doe = [sqrt(4*chi*chi*nbar/kappa)*sigmaz()]\n",
      "    sc_op_doe = [sqrt(2*chi*chi/kappa)*exp(-1j*(phi+pi/2.))*sigmaz()]\n",
      "    e_op_doe = e_op_gae\n",
      "\n",
      "    #***** Generating trajectories *****\n",
      "    D_gae = 0\n",
      "    D_doe = 0\n",
      "    \n",
      "    for i in xrange(0,Ntraj):\n",
      "        print i\n",
      "        sol_full = smesolve(H_full, rho0, tlist, c_op_full, sc_op_full, e_op_full, nsubsteps=Nsub, method='homodyne', \n",
      "                            solver='fast-milstein', store_measurement=True)\n",
      "        sol_gae = smesolve(H_gae, rhoq0, tlist, c_op_gae, sc_op_gae, e_op_gae, nsubsteps=Nsub, method='homodyne', \n",
      "                           solver='fast-milstein', noise=sol_full.noise)\n",
      "        sol_doe = smesolve(H_doe, rhoq0, tlist, c_op_doe, sc_op_doe, e_op_doe, nsubsteps=Nsub, method='homodyne', \n",
      "                           solver='fast-milstein', noise=sol_full.noise)\n",
      "        s1x = sol_full.expect[0]\n",
      "        s1y = sol_full.expect[1]\n",
      "        s1z = sol_full.expect[2]\n",
      "        s2x = sol_gae.expect[0]\n",
      "        s2y = sol_gae.expect[1]\n",
      "        s2z = sol_gae.expect[2]\n",
      "        s3x = sol_doe.expect[0]\n",
      "        s3y = sol_doe.expect[1]\n",
      "        s3z = sol_doe.expect[2]\n",
      "        \n",
      "        D_gae = D_gae+sqrt((s1x-s2x)**2+(s1y-s2y)**2+(s1z-s2z)**2)/2.\n",
      "        D_doe = D_doe+sqrt((s1x-s3x)**2+(s1y-s3y)**2+(s1z-s3z)**2)/2.\n",
      "\n",
      "    D_gae = D_gae/Ntraj\n",
      "    D_doe = D_doe/Ntraj\n",
      "    \n",
      "    return tlist, D_gae, D_doe"
     ],
     "language": "python",
     "metadata": {},
     "outputs": [],
     "prompt_number": 3
    },
    {
     "cell_type": "heading",
     "level": 4,
     "metadata": {},
     "source": [
      "Calculating average trace distance -- ensemble averaging"
     ]
    },
    {
     "cell_type": "code",
     "collapsed": false,
     "input": [
      "chi = 0.1\n",
      "phi = pi/2.\n",
      "kappa = 1.\n",
      "nbar = 0.5\n",
      "Ntraj = 20\n",
      "NFock = 8\n",
      "Nsteps = 1000\n",
      "Nsub = 250\n",
      "tmax = 50\n",
      "\n",
      "t, D_gae, D_doe = trace_dist(chi, phi, kappa, nbar, Ntraj, NFock, Nsteps, Nsub, tmax, ket2dm((basis(2,0)+basis(2,1)).unit()))"
     ],
     "language": "python",
     "metadata": {},
     "outputs": [
      {
       "output_type": "stream",
       "stream": "stdout",
       "text": [
        "0\n",
        "Total run time:  15.47s"
       ]
      },
      {
       "output_type": "stream",
       "stream": "stdout",
       "text": [
        "\n",
        "Total run time:  10.19s"
       ]
      },
      {
       "output_type": "stream",
       "stream": "stdout",
       "text": [
        "\n",
        "Total run time:   9.97s"
       ]
      },
      {
       "output_type": "stream",
       "stream": "stdout",
       "text": [
        "\n",
        "1\n",
        "Total run time:  15.13s"
       ]
      },
      {
       "output_type": "stream",
       "stream": "stdout",
       "text": [
        "\n",
        "Total run time:   9.82s"
       ]
      },
      {
       "output_type": "stream",
       "stream": "stdout",
       "text": [
        "\n",
        "Total run time:  10.01s"
       ]
      },
      {
       "output_type": "stream",
       "stream": "stdout",
       "text": [
        "\n",
        "2\n",
        "Total run time:  14.78s"
       ]
      },
      {
       "output_type": "stream",
       "stream": "stdout",
       "text": [
        "\n",
        "Total run time:   9.80s"
       ]
      },
      {
       "output_type": "stream",
       "stream": "stdout",
       "text": [
        "\n",
        "Total run time:   9.85s"
       ]
      },
      {
       "output_type": "stream",
       "stream": "stdout",
       "text": [
        "\n",
        "3\n",
        "Total run time:  14.93s"
       ]
      },
      {
       "output_type": "stream",
       "stream": "stdout",
       "text": [
        "\n",
        "Total run time:   9.86s"
       ]
      },
      {
       "output_type": "stream",
       "stream": "stdout",
       "text": [
        "\n",
        "Total run time:   9.98s"
       ]
      },
      {
       "output_type": "stream",
       "stream": "stdout",
       "text": [
        "\n",
        "4\n",
        "Total run time:  15.22s"
       ]
      },
      {
       "output_type": "stream",
       "stream": "stdout",
       "text": [
        "\n",
        "Total run time:   9.82s"
       ]
      },
      {
       "output_type": "stream",
       "stream": "stdout",
       "text": [
        "\n",
        "Total run time:   9.83s"
       ]
      },
      {
       "output_type": "stream",
       "stream": "stdout",
       "text": [
        "\n",
        "5\n",
        "Total run time:  15.06s"
       ]
      },
      {
       "output_type": "stream",
       "stream": "stdout",
       "text": [
        "\n",
        "Total run time:   9.59s"
       ]
      },
      {
       "output_type": "stream",
       "stream": "stdout",
       "text": [
        "\n",
        "Total run time:   9.49s"
       ]
      },
      {
       "output_type": "stream",
       "stream": "stdout",
       "text": [
        "\n",
        "6\n",
        "Total run time:  14.58s"
       ]
      },
      {
       "output_type": "stream",
       "stream": "stdout",
       "text": [
        "\n",
        "Total run time:   9.71s"
       ]
      },
      {
       "output_type": "stream",
       "stream": "stdout",
       "text": [
        "\n",
        "Total run time:   9.55s"
       ]
      },
      {
       "output_type": "stream",
       "stream": "stdout",
       "text": [
        "\n",
        "7\n",
        "Total run time:  14.51s"
       ]
      },
      {
       "output_type": "stream",
       "stream": "stdout",
       "text": [
        "\n",
        "Total run time:   9.47s"
       ]
      },
      {
       "output_type": "stream",
       "stream": "stdout",
       "text": [
        "\n",
        "Total run time:   9.74s"
       ]
      },
      {
       "output_type": "stream",
       "stream": "stdout",
       "text": [
        "\n",
        "8\n",
        "Total run time:  14.95s"
       ]
      },
      {
       "output_type": "stream",
       "stream": "stdout",
       "text": [
        "\n",
        "Total run time:   9.94s"
       ]
      },
      {
       "output_type": "stream",
       "stream": "stdout",
       "text": [
        "\n",
        "Total run time:   9.92s"
       ]
      },
      {
       "output_type": "stream",
       "stream": "stdout",
       "text": [
        "\n",
        "9\n",
        "Total run time:  15.00s"
       ]
      },
      {
       "output_type": "stream",
       "stream": "stdout",
       "text": [
        "\n",
        "Total run time:   9.67s"
       ]
      },
      {
       "output_type": "stream",
       "stream": "stdout",
       "text": [
        "\n",
        "Total run time:   9.84s"
       ]
      },
      {
       "output_type": "stream",
       "stream": "stdout",
       "text": [
        "\n",
        "10\n",
        "Total run time:  14.99s"
       ]
      },
      {
       "output_type": "stream",
       "stream": "stdout",
       "text": [
        "\n",
        "Total run time:   9.55s"
       ]
      },
      {
       "output_type": "stream",
       "stream": "stdout",
       "text": [
        "\n",
        "Total run time:   9.49s"
       ]
      },
      {
       "output_type": "stream",
       "stream": "stdout",
       "text": [
        "\n",
        "11\n",
        "Total run time:  14.63s"
       ]
      },
      {
       "output_type": "stream",
       "stream": "stdout",
       "text": [
        "\n",
        "Total run time:   9.55s"
       ]
      },
      {
       "output_type": "stream",
       "stream": "stdout",
       "text": [
        "\n",
        "Total run time:   9.99s"
       ]
      },
      {
       "output_type": "stream",
       "stream": "stdout",
       "text": [
        "\n",
        "12\n",
        "Total run time:  14.56s"
       ]
      },
      {
       "output_type": "stream",
       "stream": "stdout",
       "text": [
        "\n",
        "Total run time:   9.53s"
       ]
      },
      {
       "output_type": "stream",
       "stream": "stdout",
       "text": [
        "\n",
        "Total run time:   9.46s"
       ]
      },
      {
       "output_type": "stream",
       "stream": "stdout",
       "text": [
        "\n",
        "13\n",
        "Total run time:  14.63s"
       ]
      },
      {
       "output_type": "stream",
       "stream": "stdout",
       "text": [
        "\n",
        "Total run time:   9.59s"
       ]
      },
      {
       "output_type": "stream",
       "stream": "stdout",
       "text": [
        "\n",
        "Total run time:   9.53s"
       ]
      },
      {
       "output_type": "stream",
       "stream": "stdout",
       "text": [
        "\n",
        "14\n",
        "Total run time:  14.60s"
       ]
      },
      {
       "output_type": "stream",
       "stream": "stdout",
       "text": [
        "\n",
        "Total run time:   9.79s"
       ]
      },
      {
       "output_type": "stream",
       "stream": "stdout",
       "text": [
        "\n",
        "Total run time:   9.65s"
       ]
      },
      {
       "output_type": "stream",
       "stream": "stdout",
       "text": [
        "\n",
        "15\n",
        "Total run time:  14.91s"
       ]
      },
      {
       "output_type": "stream",
       "stream": "stdout",
       "text": [
        "\n",
        "Total run time:   9.74s"
       ]
      },
      {
       "output_type": "stream",
       "stream": "stdout",
       "text": [
        "\n",
        "Total run time:   9.60s"
       ]
      },
      {
       "output_type": "stream",
       "stream": "stdout",
       "text": [
        "\n",
        "16\n",
        "Total run time:  14.93s"
       ]
      },
      {
       "output_type": "stream",
       "stream": "stdout",
       "text": [
        "\n",
        "Total run time:   9.84s"
       ]
      },
      {
       "output_type": "stream",
       "stream": "stdout",
       "text": [
        "\n",
        "Total run time:   9.83s"
       ]
      },
      {
       "output_type": "stream",
       "stream": "stdout",
       "text": [
        "\n",
        "17\n",
        "Total run time:  15.72s"
       ]
      },
      {
       "output_type": "stream",
       "stream": "stdout",
       "text": [
        "\n",
        "Total run time:   9.57s"
       ]
      },
      {
       "output_type": "stream",
       "stream": "stdout",
       "text": [
        "\n",
        "Total run time:  10.08s"
       ]
      },
      {
       "output_type": "stream",
       "stream": "stdout",
       "text": [
        "\n",
        "18\n",
        "Total run time:  14.89s"
       ]
      },
      {
       "output_type": "stream",
       "stream": "stdout",
       "text": [
        "\n",
        "Total run time:  10.67s"
       ]
      },
      {
       "output_type": "stream",
       "stream": "stdout",
       "text": [
        "\n",
        "Total run time:  10.64s"
       ]
      },
      {
       "output_type": "stream",
       "stream": "stdout",
       "text": [
        "\n",
        "19\n",
        "Total run time:  15.26s"
       ]
      },
      {
       "output_type": "stream",
       "stream": "stdout",
       "text": [
        "\n",
        "Total run time:  10.79s"
       ]
      },
      {
       "output_type": "stream",
       "stream": "stdout",
       "text": [
        "\n",
        "Total run time:   9.87s"
       ]
      },
      {
       "output_type": "stream",
       "stream": "stdout",
       "text": [
        "\n"
       ]
      }
     ],
     "prompt_number": 4
    },
    {
     "cell_type": "code",
     "collapsed": false,
     "input": [
      "fig, axes = subplots(figsize=(12,8))\n",
      "\n",
      "axes.plot(t, D_gae, label='Gaussian ad. elimination')\n",
      "axes.plot(t, D_doe, label='Density op. expansion')\n",
      "axes.set_xlabel('Time')\n",
      "axes.set_ylabel('Trace distance')\n",
      "axes.legend(loc=0)"
     ],
     "language": "python",
     "metadata": {},
     "outputs": [
      {
       "metadata": {},
       "output_type": "pyout",
       "prompt_number": 5,
       "text": [
        "<matplotlib.legend.Legend at 0x109fceb10>"
       ]
      },
      {
       "metadata": {},
       "output_type": "display_data",
       "png": "[encoded data removed]",
       "text": [
        "<matplotlib.figure.Figure at 0x109f4e050>"
       ]
      }
     ],
     "prompt_number": 5
    },
    {
     "cell_type": "heading",
     "level": 4,
     "metadata": {},
     "source": [
      "Calculating average trace distance -- time averaging"
     ]
    },
    {
     "cell_type": "heading",
     "level": 5,
     "metadata": {},
     "source": [
      "Erorr with Gaussian adiabatic elimination"
     ]
    },
    {
     "cell_type": "code",
     "collapsed": false,
     "input": [
      "D_gae_time = D_gae.sum()/Nsteps\n",
      "print D_gae_time"
     ],
     "language": "python",
     "metadata": {},
     "outputs": [
      {
       "output_type": "stream",
       "stream": "stdout",
       "text": [
        "0.0574992960051\n"
       ]
      }
     ],
     "prompt_number": 6
    },
    {
     "cell_type": "heading",
     "level": 5,
     "metadata": {},
     "source": [
      "Error with density operator expansion"
     ]
    },
    {
     "cell_type": "code",
     "collapsed": false,
     "input": [
      "D_doe_time = D_doe.sum()/Nsteps\n",
      "print D_doe_time"
     ],
     "language": "python",
     "metadata": {},
     "outputs": [
      {
       "output_type": "stream",
       "stream": "stdout",
       "text": [
        "0.130030346148\n"
       ]
      }
     ],
     "prompt_number": 7
    }
   ],
   "metadata": {}
  }
 ]
}