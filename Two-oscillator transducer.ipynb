{
 "metadata": {
  "name": "",
  "signature": "sha256:2a8324cd37dd5fbf3648c8996497dc48a9aac241870937ad293afd86a0465a3a"
 },
 "nbformat": 3,
 "nbformat_minor": 0,
 "worksheets": [
  {
   "cells": [
    {
     "cell_type": "markdown",
     "metadata": {},
     "source": [
      "#Dispersive qubit readout using a two-oscillator transducer\n",
      "\n",
      "Ondrej Cernotik\n",
      "\n",
      "24 February 2015\n",
      "\n",
      "Here we consider a qubit dispersively coupled to a transducer consisting of two coupled oscillators. The first oscillator interacts with the qubit and, at the same time, couples to a thermal bath, while the other oscillator is used to read out the state of the qubit. The system is described by the equation\n",
      "$$\n",
      "\\mathrm{d}\\rho = -i[\\chi\\sigma_zp_1+\\omega(a^\\dagger a+b^\\dagger b)+gq_1q_2,\\rho]\\mathrm{d}t\n",
      "+\\gamma(\\bar{n}+1)\\mathcal{D}[a]\\rho\\mathrm{d}t+\\gamma\\bar{n}\\mathcal{D}[a^\\dagger]\\rho\\mathrm{d}t\n",
      "+\\kappa\\mathcal{D}[b]\\rho\\mathrm{d}t+\\sqrt{\\kappa}\\mathcal{H}[ib]\\rho\\mathrm{d}W.\n",
      "$$\n",
      "Here, the first (i.e., the thermal) oscillator is described by the annihilation operator $a$ and the canonical operators $q_1$, $p_1$, and the second (i.e., the readout) oscillator is described using the operators $b$, $q_2$, $p_2$. The qubit couples to the transducer at the rate $\\chi$, the oscillators interact with strength $g$ and both have frequency $\\omega$. The thermal oscillator has decay rate $\\gamma$ and couples to a bath with $\\bar{n}$ thermal excitations, the readout oscillator couples to vacuum bath at rate $\\kappa$.\n",
      "\n",
      "Since this system is too complex to be treated analytically, we follow the formal treatment of Ref. [1] to obtain an effective equation of motion for the qubit. To compare the effective equation with the exact model, we use the trace distance as in the other examples; in the simulations, the unconditional steady state is taken as the initial state of the transducer.\n",
      "\n",
      "\n",
      "**References**\n",
      "\n",
      "[1] O. Cernotik, D. Vasilyev, and K. Hammerer, [arXiv:1503.07484](http://www.arxiv.org/abs/1503.07484)."
     ]
    },
    {
     "cell_type": "code",
     "collapsed": false,
     "input": [
      "%matplotlib inline"
     ],
     "language": "python",
     "metadata": {},
     "outputs": [
      {
       "output_type": "stream",
       "stream": "stderr",
       "text": [
        "Vendor:  Continuum Analytics, Inc.\n",
        "Package: mkl\n",
        "Message: trial mode expires in 29 days\n"
       ]
      }
     ],
     "prompt_number": 1
    },
    {
     "cell_type": "code",
     "collapsed": false,
     "input": [
      "from qutip import qeye, tensor, destroy, sigmax, sigmay, sigmaz, steadystate, ket2dm, basis, smesolve\n",
      "from numpy import linspace, array, dot, sqrt, diag\n",
      "from scipy.linalg import inv, solve_lyapunov, solve_continuous_are\n",
      "from matplotlib.pyplot import subplots, plot"
     ],
     "language": "python",
     "metadata": {},
     "outputs": [],
     "prompt_number": 2
    },
    {
     "cell_type": "code",
     "collapsed": false,
     "input": [
      "def trace_dist(chi, omega, g, kappa, gamma, nbar, tmax, Nsteps, Nsub, NFock1, NFock2, Ntraj, rhoq0):\n",
      "    #***** function trace_dist *****\n",
      "    #Input parameters:\n",
      "    #      chi: coupling between the qubit and the thermal oscillator,\n",
      "    #      omega: frequency of the oscillators,\n",
      "    #      g: coupling between the two oscillators,\n",
      "    #      kappa: measurement (and decay) rate,\n",
      "    #      gamma: decay rate of the thermal oscillator,\n",
      "    #      nbar: thermal occupation,\n",
      "    #      tmax: maximum time,\n",
      "    #      Nsteps: number of time steps in the evolution,\n",
      "    #      Nsub: number of substeps,\n",
      "    #      NFock1: Fock space cutoff for the thermal oscillator,\n",
      "    #      NFock2: Fock space cutoff for the measurement oscillator,\n",
      "    #      Ntraj: number of generated trajectories,\n",
      "    #      rhoq0: initial qubit state.\n",
      "    #Returns:\n",
      "    #      t: time list,\n",
      "    #      D: trace distance between the exact and approximate solutions.\n",
      "    \n",
      "    #***** System operators *****\n",
      "    tlist = linspace(0, tmax, Nsteps)\n",
      "    Id2 = qeye(2)\n",
      "    IdN1 = qeye(NFock1)\n",
      "    IdN2 = qeye(NFock2)\n",
      "    a = tensor(Id2, destroy(NFock1), IdN2)\n",
      "    xa = (a+a.dag())/sqrt(2.)\n",
      "    pa = 1j*(a.dag()-a)/sqrt(2.)\n",
      "    b = tensor(Id2, IdN1, destroy(NFock2))\n",
      "    xb = (b+b.dag())/sqrt(2.)\n",
      "    pb = 1j*(b.dag()-b)/sqrt(2.)\n",
      "    sx = tensor(sigmax(), IdN1, IdN2)\n",
      "    sy = tensor(sigmay(), IdN1, IdN2)\n",
      "    sz = tensor(sigmaz(), IdN1, IdN2)\n",
      "    \n",
      "    #***** Transducer operators for determining the \n",
      "    #      transducer steady state *****\n",
      "    a2 = tensor(destroy(NFock1), IdN2)\n",
      "    xa2 = (a2+a2.dag())/sqrt(2.)\n",
      "    b2 = tensor(IdN1, destroy(NFock2))\n",
      "    xb2 = (b2+b2.dag())/sqrt(2.)\n",
      "    \n",
      "    #***** Full model *****\n",
      "    H_full = chi*sz*pa+omega*(a.dag()*a+b.dag()*b)+g*xa*xb\n",
      "    c_op_full = [sqrt(gamma*(nbar+1))*a, sqrt(gamma*nbar)*a.dag()]\n",
      "    sc_op_full = [1j*sqrt(kappa)*b]\n",
      "    e_op_full = [sx, sy, sz]\n",
      "    rhoT = steadystate(omega*(a2.dag()*a2+b2.dag()*b2)+g*xa2*xb2,\n",
      "                       [sqrt(gamma*(nbar+1))*a2, sqrt(gamma*nbar)*a2.dag(), sqrt(kappa)*b2]) # determining the steady state\n",
      "    rho0 = tensor(rhoq0, rhoT)\n",
      "    \n",
      "    #***** Gaussian adiabatic elimination *****\n",
      "    sigma = array([[0,1,0,0], [-1,0,0,0], [0,0,0,1], [0,0,-1,0]])\n",
      "    A = array([[-gamma/2., omega, 0., 0.], [-omega, -gamma/2., -g/2., 0.],\n",
      "               [0., 0., -kappa/2., omega], [-g/2., 0., -omega, -kappa/2.]])\n",
      "    N = diag([gamma*(nbar+0.5), gamma*(nbar+0.5), kappa/2., kappa/2.])\n",
      "    c = sqrt(kappa/2.)*array([[0., 0., 0.,-1.]]).transpose()\n",
      "    m = sqrt(kappa/2.)*array([[0., 0., 1., 0.]]).transpose() # definitions following Ref. [1]\n",
      "    covU = solve_lyapunov(A, -2*N)\n",
      "    covC = solve_continuous_are((A+2*dot(dot(sigma, m), c.transpose())).transpose(), c,\n",
      "                                2*(N-dot(dot(sigma, m), dot(m.transpose(), sigma.transpose()))), array([[2]]))\n",
      "                                # unconditional and conditional covariance matrices\n",
      "    \n",
      "    Q = A-2*dot(dot(covC, c)-dot(sigma, m), c.transpose())\n",
      "    invA = inv(A)\n",
      "    invQ = inv(Q)\n",
      "    s = array([[0., chi*sigmaz(), 0., 0.]]).transpose() # vector of the system operators in the interaction\n",
      "    Lambda = dot(covC-1j*sigma, dot(invQ.transpose(), c))-dot(invA, dot(covC, c)-dot(sigma, m))\n",
      "    M = dot(invA, covU+1j*sigma)-dot(covU-1j*sigma.transpose(), invA.transpose())\n",
      "    Sigma = -0.5*(dot(invA, covU-1j*sigma)+dot(covU+1j*sigma.transpose(), invA.transpose()))\n",
      "    \n",
      "    H_gae = 0.25*1j*sum(sum(dot(s.transpose(), dot(M, s))))\n",
      "    c_op_gae = [chi*sqrt(Sigma[1,1]-dot(Lambda, Lambda.conjugate().transpose())[1,1])*sigmaz()]\n",
      "    sc_op_gae = [1j*sum(sum(dot(Lambda.transpose(), s)))]\n",
      "    e_op_gae = [sigmax(), sigmay(), sigmaz()] # Hamiltonian, collapse and measurement operators, evolution operators\n",
      "    \n",
      "    #***** Quantum trajectories *****\n",
      "    D = 0\n",
      "    \n",
      "    for i in xrange(0, Ntraj):\n",
      "        print i\n",
      "        sol_full = smesolve(H_full, rho0, tlist, c_op_full, sc_op_full, e_op_full, nsubsteps=Nsub, method='homodyne',\n",
      "                            solver='fast-milstein', store_measurement=True)\n",
      "        sol_gae = smesolve(H_gae, rhoq0, tlist, c_op_gae, sc_op_gae, e_op_gae, nsubsteps=Nsub, method='homodyne',\n",
      "                           solver='fast-milstein', noise=sol_full.noise)\n",
      "        \n",
      "        s1x = sol_full.expect[0]\n",
      "        s1y = sol_full.expect[1]\n",
      "        s1z = sol_full.expect[2]\n",
      "        s2x = sol_gae.expect[0]\n",
      "        s2y = sol_gae.expect[1]\n",
      "        s2z = sol_gae.expect[2]\n",
      "        \n",
      "        D = D+sqrt((s1x-s2x)**2+(s1y-s2y)**2+(s1z-s2z)**2)\n",
      "    \n",
      "    D = D/Ntraj\n",
      "    \n",
      "    return tlist, D"
     ],
     "language": "python",
     "metadata": {},
     "outputs": [],
     "prompt_number": 3
    },
    {
     "cell_type": "heading",
     "level": 4,
     "metadata": {},
     "source": [
      "Calculating average trace distance -- ensemble averaging"
     ]
    },
    {
     "cell_type": "code",
     "collapsed": false,
     "input": [
      "chi = 0.2\n",
      "omega = 5.\n",
      "g = 0.5\n",
      "kappa = 1.\n",
      "gamma = 0.1\n",
      "nbar = 0.5\n",
      "tmax = 10.\n",
      "Nsteps = 500\n",
      "Nsub = 250\n",
      "NFock1 = 10\n",
      "NFock2 = 8\n",
      "Ntraj = 10\n",
      "\n",
      "t, D = trace_dist(chi, omega, g, kappa, gamma, nbar, tmax, Nsteps, Nsub, NFock1, NFock2, Ntraj, ket2dm((basis(2,0)+basis(2,1)).unit()))"
     ],
     "language": "python",
     "metadata": {},
     "outputs": [
      {
       "output_type": "stream",
       "stream": "stdout",
       "text": [
        "0\n",
        "Total run time: 263.67s"
       ]
      },
      {
       "output_type": "stream",
       "stream": "stdout",
       "text": [
        "\n",
        "Total run time:   5.15s"
       ]
      },
      {
       "output_type": "stream",
       "stream": "stdout",
       "text": [
        "\n",
        "1\n",
        "Total run time: 236.70s"
       ]
      },
      {
       "output_type": "stream",
       "stream": "stdout",
       "text": [
        "\n",
        "Total run time:   5.16s"
       ]
      },
      {
       "output_type": "stream",
       "stream": "stdout",
       "text": [
        "\n",
        "2\n",
        "Total run time: 236.19s"
       ]
      },
      {
       "output_type": "stream",
       "stream": "stdout",
       "text": [
        "\n",
        "Total run time:   4.98s"
       ]
      },
      {
       "output_type": "stream",
       "stream": "stdout",
       "text": [
        "\n",
        "3\n",
        "Total run time: 226.77s"
       ]
      },
      {
       "output_type": "stream",
       "stream": "stdout",
       "text": [
        "\n",
        "Total run time:   4.95s"
       ]
      },
      {
       "output_type": "stream",
       "stream": "stdout",
       "text": [
        "\n",
        "4\n",
        "Total run time: 226.57s"
       ]
      },
      {
       "output_type": "stream",
       "stream": "stdout",
       "text": [
        "\n",
        "Total run time:   4.96s"
       ]
      },
      {
       "output_type": "stream",
       "stream": "stdout",
       "text": [
        "\n",
        "5\n",
        "Total run time: 226.61s"
       ]
      },
      {
       "output_type": "stream",
       "stream": "stdout",
       "text": [
        "\n",
        "Total run time:   4.95s"
       ]
      },
      {
       "output_type": "stream",
       "stream": "stdout",
       "text": [
        "\n",
        "6\n",
        "Total run time: 225.83s"
       ]
      },
      {
       "output_type": "stream",
       "stream": "stdout",
       "text": [
        "\n",
        "Total run time:   5.00s"
       ]
      },
      {
       "output_type": "stream",
       "stream": "stdout",
       "text": [
        "\n",
        "7\n",
        "Total run time: 225.61s"
       ]
      },
      {
       "output_type": "stream",
       "stream": "stdout",
       "text": [
        "\n",
        "Total run time:   4.96s"
       ]
      },
      {
       "output_type": "stream",
       "stream": "stdout",
       "text": [
        "\n",
        "8\n",
        "Total run time: 224.77s"
       ]
      },
      {
       "output_type": "stream",
       "stream": "stdout",
       "text": [
        "\n",
        "Total run time:   4.94s"
       ]
      },
      {
       "output_type": "stream",
       "stream": "stdout",
       "text": [
        "\n",
        "9\n",
        "Total run time: 224.41s"
       ]
      },
      {
       "output_type": "stream",
       "stream": "stdout",
       "text": [
        "\n",
        "Total run time:   4.93s"
       ]
      },
      {
       "output_type": "stream",
       "stream": "stdout",
       "text": [
        "\n"
       ]
      }
     ],
     "prompt_number": 4
    },
    {
     "cell_type": "code",
     "collapsed": false,
     "input": [
      "fig, axes = subplots(figsize=(12,8))\n",
      "\n",
      "axes.plot(t, D)\n",
      "axes.set_xlabel('Time')\n",
      "axes.set_ylabel('Trace distance')"
     ],
     "language": "python",
     "metadata": {},
     "outputs": [
      {
       "metadata": {},
       "output_type": "pyout",
       "prompt_number": 5,
       "text": [
        "<matplotlib.text.Text at 0x109fd8cd0>"
       ]
      },
      {
       "metadata": {},
       "output_type": "display_data",
       "png": "[encoded data removed]",
       "text": [
        "<matplotlib.figure.Figure at 0x10446d8d0>"
       ]
      }
     ],
     "prompt_number": 5
    },
    {
     "cell_type": "heading",
     "level": 4,
     "metadata": {},
     "source": [
      "Calculating average trace distance -- time averaging"
     ]
    },
    {
     "cell_type": "code",
     "collapsed": false,
     "input": [
      "D_time = D.sum()/Nsteps\n",
      "print D_time"
     ],
     "language": "python",
     "metadata": {},
     "outputs": [
      {
       "output_type": "stream",
       "stream": "stdout",
       "text": [
        "0.0328545148878\n"
       ]
      }
     ],
     "prompt_number": 6
    }
   ],
   "metadata": {}
  }
 ]
}
