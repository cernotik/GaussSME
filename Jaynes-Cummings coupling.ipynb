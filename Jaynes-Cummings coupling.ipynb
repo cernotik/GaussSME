{
 "metadata": {
  "name": "",
  "signature": "sha256:5ca9094f7b7b84c50e2483b64c3e1337481705f677ed4e02d407c57402172b74"
 },
 "nbformat": 3,
 "nbformat_minor": 0,
 "worksheets": [
  {
   "cells": [
    {
     "cell_type": "markdown",
     "metadata": {},
     "source": [
      "#Readout of a qubit coupled to a cavity mode via Jaynes-Cummings interaction\n",
      "\n",
      "Ondrej Cernotik\n",
      "\n",
      "23 February 2015\n",
      "\n",
      "The evolution of a qubit and a thermal cavity coupled via a Jaynes-Cummings interaction is given by the stochastic master equation\n",
      "$$\n",
      "\\mathrm{d}\\rho = -i[g(a\\sigma_+ e^{i(\\omega t+\\phi)}+a^\\dagger\\sigma_- e^{-i(\\omega t+\\phi)})+\\Delta a^\\dagger a,\\rho]\\mathrm{d}t\n",
      "+\\kappa(\\bar{n}+1)\\mathcal{D}[a]\\rho\\mathrm{d}t+\\kappa\\bar{n}\\mathcal{D}[a^\\dagger]\\rho\\mathrm{d}t\n",
      "+\\sqrt{\\frac{\\kappa}{2\\bar{n}+1}}\\mathcal{H}[(\\bar{n}+1)ae^{-i\\delta t}-\\bar{n}a^\\dagger e^{i\\delta t}]\\rho\\mathrm{d}W.\n",
      "$$\n",
      "The equation is written in the interaction picture with respect to the qubit Hamiltonian $H_q = \\frac{\\omega}{2}\\sigma_z$ and we use a detuning in the local oscillator to measure the signal appearing in the sideband of the output light.\n",
      "\n",
      "Starting from this equation and choosing $\\Delta = \\omega = -\\delta$, the Gaussian adiabatic elimination method [1] gives the effective dynamics\n",
      "$$\n",
      "\\mathrm{d}\\rho_q = \\frac{4g^2}{\\kappa}\\{(\\bar{n}+1)\\mathcal{D}[\\sigma_-]+\\bar{n}\\mathcal{D}[\\sigma_+]\\}\\rho_q\\mathrm{d}t+\n",
      "\\frac{2g}{\\sqrt{\\kappa(2\\bar{n}+1)}}\\mathcal{H}[(\\bar{n}+1)\\sigma_-e^{-i(\\phi+\\pi/2)}-\\bar{n}\\sigma_+e^{i(\\phi+\\pi/2)}]\\rho_q\\mathrm{d}W.\n",
      "$$\n",
      "With density operator expansion [2] for the measurement and projection operator method [3] for the deterministic part, we get\n",
      "$$\n",
      "\\mathrm{d}\\rho_q = \\frac{4g^2}{\\kappa}\\{(\\bar{n}+1)\\mathcal{D}[\\sigma_-]+\\bar{n}\\mathcal{D}[\\sigma_+]\\}\\rho_q\\mathrm{d}t+\n",
      "\\frac{2g}{\\sqrt{\\kappa}}\\mathcal{H}[\\sigma_-e^{-i(\\phi+\\pi/2)}]\\rho_q\\mathrm{d}W.\n",
      "$$\n",
      "See Ref. [1] for details on the derivation of these equations.\n",
      "\n",
      "Since the full equation has time-dependent measurement operator and interaction Hamiltonian, we move to the rotating frame of the cavity field to obtain the time-independent equation\n",
      "$$\n",
      "\\mathrm{d}\\rho = -ig[a\\sigma_+ e^{i\\phi}+a^\\dagger\\sigma_- e^{-i\\phi},\\rho]\\mathrm{d}t\n",
      "+\\kappa(\\bar{n}+1)\\mathcal{D}[a]\\rho\\mathrm{d}t+\\kappa\\bar{n}\\mathcal{D}[a^\\dagger]\\rho\\mathrm{d}t\n",
      "+\\sqrt{\\frac{\\kappa}{2\\bar{n}+1}}\\mathcal{H}[(\\bar{n}+1)a-\\bar{n}a^\\dagger]\\rho\\mathrm{d}W.\n",
      "$$\n",
      "This equation is taken as the full solution with which the effective equations will be compared. The difference between the solutions is again given by the trace distance of the corresponding density operators (see the file *Dispersive qubit readout.ipynb* for details).\n",
      "\n",
      "\n",
      "**References**\n",
      "\n",
      "[1] O. Cernotik, D. Vasilyev, and K. Hammerer, [arXiv:1503.07484](http://www.arxiv.org/abs/1503.07484).\n",
      "\n",
      "[2] A. Doherty and K. Jacobs, [Physical Review A **60**, 2700 (1999)](http://dx.doi.org/10.1103/PhysRevA.60.2700).\n",
      "\n",
      "[3] C. Gardiner and P. Zoller, [Quantum Noise: A Handbook of Markovian and Non-Markovian Quantum Stochastic Methods with Applications to Quantum Optics](http://books.google.com/books?hl=en&lr=&id=a_xsT8oGhdgC&pgis=1) (Springer, 2004)."
     ]
    },
    {
     "cell_type": "code",
     "collapsed": false,
     "input": [
      "%matplotlib inline"
     ],
     "language": "python",
     "metadata": {},
     "outputs": [
      {
       "output_type": "stream",
       "stream": "stderr",
       "text": [
        "Vendor:  Continuum Analytics, Inc.\n",
        "Package: mkl\n",
        "Message: trial mode expires in 29 days\n"
       ]
      }
     ],
     "prompt_number": 1
    },
    {
     "cell_type": "code",
     "collapsed": false,
     "input": [
      "from qutip import qeye, destroy, sigmax, sigmay, sigmaz, sigmam, sigmap, tensor, smesolve, ket2dm, basis, thermal_dm\n",
      "from matplotlib.pyplot import subplots, plot\n",
      "from numpy import linspace, exp, sqrt, pi"
     ],
     "language": "python",
     "metadata": {},
     "outputs": [],
     "prompt_number": 2
    },
    {
     "cell_type": "code",
     "collapsed": false,
     "input": [
      "def trace_dist(g, phase, kappa, nbar, Ntraj, NFock, Nstep, Nsub, tmax, rhoq0):\n",
      "    #***** function trace_dist *****\n",
      "    #This function calculates the trace distance between the exact dynamics \n",
      "    #and the approximate solutions (Gaussian adiabatic elimination, density \n",
      "    #operator expansion) for the Jaynes-Cummings interaction.\n",
      "    #Input parameters:\n",
      "    #      g: qubit-cavity coupling,\n",
      "    #      phase: interaction phase,\n",
      "    #      kappa: intrinsic measurement (and decay) rate,\n",
      "    #      nbar: thermal occupation,\n",
      "    #      Ntraj: number of generated trajectories,\n",
      "    #      NFock: Fock number cutoff,\n",
      "    #      Nstep: number of steps for evolution,\n",
      "    #      Nsub: number of substeps,\n",
      "    #      tmax: maximum time,\n",
      "    #      rhoq0: initial qubit state.\n",
      "    #Returns:\n",
      "    #      tlist: list of times,\n",
      "    #      D_gae: trace distance for Gaussian adiabatic elimination,\n",
      "    #      D_doe: trace distance for density operator expansion.\n",
      "\n",
      "    #***** System operators *****\n",
      "    tlist = linspace(0, tmax, Nstep)\n",
      "    Id2 = qeye(2)\n",
      "    IdN = qeye(NFock)\n",
      "    a = tensor(Id2, destroy(NFock))\n",
      "    x = (a+a.dag())/sqrt(2.)\n",
      "    p = -1j*(a-a.dag())/sqrt(2.)\n",
      "    sx = tensor(sigmax(), IdN)\n",
      "    sy = tensor(sigmay(), IdN)\n",
      "    sz = tensor(sigmaz(), IdN)\n",
      "    sm = tensor(sigmam(), IdN)\n",
      "    sp = tensor(sigmap(), IdN)\n",
      "    \n",
      "    #***** Full dynamics *****\n",
      "    H_full = g*(a*sp*exp(1j*phase)+a.dag()*sm*exp(-1j*phase))\n",
      "    c_op_full = [sqrt(2*kappa*nbar*(nbar+1)/(2*nbar+1))*x]\n",
      "    sc_op_full = [sqrt(kappa/(2*nbar+1))*((nbar+1)*a-nbar*a.dag())]\n",
      "    e_op_full = [sx, sy, sz]\n",
      "    rho0 = tensor(rhoq0, thermal_dm(NFock, nbar))\n",
      "\n",
      "    #***** Gaussian adiabatic elimination *****\n",
      "    H_gae = 0*Id2\n",
      "    c_op_gae = [(2*g/kappa)*sqrt(kappa*nbar*(nbar+1)/(2*nbar+1))*(sigmam()*exp(-1j*(phi+pi/2))+sigmap()*exp(1j*(phi+pi/2)))]\n",
      "    sc_op_gae = [(2*g/sqrt(kappa*(2*nbar+1)))*((nbar+1)*exp(-1j*(phi+pi/2))*sigmam()-nbar*exp(1j*(phi+pi/2))*sigmap())]\n",
      "    e_op_gae = [sigmax(), sigmay(), sigmaz()]\n",
      "\n",
      "    #***** Density operator expansion *****\n",
      "    H_doe = H_gae\n",
      "    c_op_doe = [(2*g/sqrt(kappa))*nbar*sigmam(), (2*g/sqrt(kappa))*nbar*sigmap()]\n",
      "    sc_op_doe = [(2*g/sqrt(kappa))*exp(-1j*(phi+pi/2))*sigmam()]\n",
      "    e_op_doe = e_op_gae\n",
      "\n",
      "    #***** Generating trajectories *****\n",
      "    D_gae = 0\n",
      "    D_doe = 0\n",
      "    \n",
      "    for i in xrange(0,Ntraj):\n",
      "        print i\n",
      "        sol_full = smesolve(H_full, rho0, tlist, c_op_full, sc_op_full, e_op_full, nsubsteps=Nsub, method='homodyne', \n",
      "                            solver='fast-milstein', store_measurement=True)\n",
      "        sol_gae = smesolve(H_gae, rhoq0, tlist, c_op_gae, sc_op_gae, e_op_gae, nsubsteps=Nsub, method='homodyne', \n",
      "                           solver='fast-milstein', noise=sol_full.noise)\n",
      "        sol_doe = smesolve(H_doe, rhoq0, tlist, c_op_doe, sc_op_doe, e_op_doe, nsubsteps=Nsub, method='homodyne',\n",
      "                           solver='fast-milstein', noise=sol_full.noise)\n",
      "        s1x = sol_full.expect[0]\n",
      "        s1y = sol_full.expect[1]\n",
      "        s1z = sol_full.expect[2]\n",
      "        s2x = sol_gae.expect[0]\n",
      "        s2y = sol_gae.expect[1]\n",
      "        s2z = sol_gae.expect[2]\n",
      "        s3x = sol_doe.expect[0]\n",
      "        s3y = sol_doe.expect[1]\n",
      "        s3z = sol_doe.expect[2]\n",
      "        \n",
      "        D_gae = D_gae+sqrt((s1x-s2x)**2+(s1y-s2y)**2+(s1z-s2z)**2)/2.\n",
      "        D_doe = D_doe+sqrt((s1x-s3x)**2+(s1y-s3y)**2+(s1z-s3z)**2)/2.\n",
      "        \n",
      "    D_gae = D_gae/Ntraj\n",
      "    D_doe = D_doe/Ntraj\n",
      "    \n",
      "    return tlist, D_gae, D_doe"
     ],
     "language": "python",
     "metadata": {},
     "outputs": [],
     "prompt_number": 3
    },
    {
     "cell_type": "heading",
     "level": 4,
     "metadata": {},
     "source": [
      "Calculating average trace distance -- ensemble averaging"
     ]
    },
    {
     "cell_type": "code",
     "collapsed": false,
     "input": [
      "g = 0.1\n",
      "phi = 0.\n",
      "kappa = 1.\n",
      "nbar = 0.5\n",
      "Ntraj = 20\n",
      "NFock = 8\n",
      "Nsteps = 1000\n",
      "Nsub = 250\n",
      "tmax = 50\n",
      "\n",
      "t, D_gae, D_doe = trace_dist(g, phi, kappa, nbar, Ntraj, NFock, Nsteps, Nsub, tmax, ket2dm((basis(2,0)+basis(2,1)).unit()))"
     ],
     "language": "python",
     "metadata": {},
     "outputs": [
      {
       "output_type": "stream",
       "stream": "stdout",
       "text": [
        "0\n",
        "Total run time:  15.96s"
       ]
      },
      {
       "output_type": "stream",
       "stream": "stdout",
       "text": [
        "\n",
        "Total run time:  10.56s"
       ]
      },
      {
       "output_type": "stream",
       "stream": "stdout",
       "text": [
        "\n",
        "Total run time:  10.25s"
       ]
      },
      {
       "output_type": "stream",
       "stream": "stdout",
       "text": [
        "\n",
        "1\n",
        "Total run time:  14.68s"
       ]
      },
      {
       "output_type": "stream",
       "stream": "stdout",
       "text": [
        "\n",
        "Total run time:   9.67s"
       ]
      },
      {
       "output_type": "stream",
       "stream": "stdout",
       "text": [
        "\n",
        "Total run time:   9.58s"
       ]
      },
      {
       "output_type": "stream",
       "stream": "stdout",
       "text": [
        "\n",
        "2\n",
        "Total run time:  14.72s"
       ]
      },
      {
       "output_type": "stream",
       "stream": "stdout",
       "text": [
        "\n",
        "Total run time:   9.69s"
       ]
      },
      {
       "output_type": "stream",
       "stream": "stdout",
       "text": [
        "\n",
        "Total run time:   9.59s"
       ]
      },
      {
       "output_type": "stream",
       "stream": "stdout",
       "text": [
        "\n",
        "3\n",
        "Total run time:  14.85s"
       ]
      },
      {
       "output_type": "stream",
       "stream": "stdout",
       "text": [
        "\n",
        "Total run time:   9.77s"
       ]
      },
      {
       "output_type": "stream",
       "stream": "stdout",
       "text": [
        "\n",
        "Total run time:   9.78s"
       ]
      },
      {
       "output_type": "stream",
       "stream": "stdout",
       "text": [
        "\n",
        "4\n",
        "Total run time:  14.94s"
       ]
      },
      {
       "output_type": "stream",
       "stream": "stdout",
       "text": [
        "\n",
        "Total run time:   9.88s"
       ]
      },
      {
       "output_type": "stream",
       "stream": "stdout",
       "text": [
        "\n",
        "Total run time:   9.85s"
       ]
      },
      {
       "output_type": "stream",
       "stream": "stdout",
       "text": [
        "\n",
        "5\n",
        "Total run time:  15.00s"
       ]
      },
      {
       "output_type": "stream",
       "stream": "stdout",
       "text": [
        "\n",
        "Total run time:  10.08s"
       ]
      },
      {
       "output_type": "stream",
       "stream": "stdout",
       "text": [
        "\n",
        "Total run time:   9.88s"
       ]
      },
      {
       "output_type": "stream",
       "stream": "stdout",
       "text": [
        "\n",
        "6\n",
        "Total run time:  16.08s"
       ]
      },
      {
       "output_type": "stream",
       "stream": "stdout",
       "text": [
        "\n",
        "Total run time:  10.11s"
       ]
      },
      {
       "output_type": "stream",
       "stream": "stdout",
       "text": [
        "\n",
        "Total run time:  10.14s"
       ]
      },
      {
       "output_type": "stream",
       "stream": "stdout",
       "text": [
        "\n",
        "7\n",
        "Total run time:  15.98s"
       ]
      },
      {
       "output_type": "stream",
       "stream": "stdout",
       "text": [
        "\n",
        "Total run time:  10.50s"
       ]
      },
      {
       "output_type": "stream",
       "stream": "stdout",
       "text": [
        "\n",
        "Total run time:  10.05s"
       ]
      },
      {
       "output_type": "stream",
       "stream": "stdout",
       "text": [
        "\n",
        "8\n",
        "Total run time:  14.91s"
       ]
      },
      {
       "output_type": "stream",
       "stream": "stdout",
       "text": [
        "\n",
        "Total run time:   9.58s"
       ]
      },
      {
       "output_type": "stream",
       "stream": "stdout",
       "text": [
        "\n",
        "Total run time:  10.24s"
       ]
      },
      {
       "output_type": "stream",
       "stream": "stdout",
       "text": [
        "\n",
        "9\n",
        "Total run time:  14.79s"
       ]
      },
      {
       "output_type": "stream",
       "stream": "stdout",
       "text": [
        "\n",
        "Total run time:  11.07s"
       ]
      },
      {
       "output_type": "stream",
       "stream": "stdout",
       "text": [
        "\n",
        "Total run time:  10.86s"
       ]
      },
      {
       "output_type": "stream",
       "stream": "stdout",
       "text": [
        "\n",
        "10\n",
        "Total run time:  14.59s"
       ]
      },
      {
       "output_type": "stream",
       "stream": "stdout",
       "text": [
        "\n",
        "Total run time:   9.66s"
       ]
      },
      {
       "output_type": "stream",
       "stream": "stdout",
       "text": [
        "\n",
        "Total run time:   9.74s"
       ]
      },
      {
       "output_type": "stream",
       "stream": "stdout",
       "text": [
        "\n",
        "11\n",
        "Total run time:  15.29s"
       ]
      },
      {
       "output_type": "stream",
       "stream": "stdout",
       "text": [
        "\n",
        "Total run time:   9.88s"
       ]
      },
      {
       "output_type": "stream",
       "stream": "stdout",
       "text": [
        "\n",
        "Total run time:  11.55s"
       ]
      },
      {
       "output_type": "stream",
       "stream": "stdout",
       "text": [
        "\n",
        "12\n",
        "Total run time:  14.60s"
       ]
      },
      {
       "output_type": "stream",
       "stream": "stdout",
       "text": [
        "\n",
        "Total run time:   9.72s"
       ]
      },
      {
       "output_type": "stream",
       "stream": "stdout",
       "text": [
        "\n",
        "Total run time:   9.60s"
       ]
      },
      {
       "output_type": "stream",
       "stream": "stdout",
       "text": [
        "\n",
        "13\n",
        "Total run time:  14.84s"
       ]
      },
      {
       "output_type": "stream",
       "stream": "stdout",
       "text": [
        "\n",
        "Total run time:   9.65s"
       ]
      },
      {
       "output_type": "stream",
       "stream": "stdout",
       "text": [
        "\n",
        "Total run time:   9.73s"
       ]
      },
      {
       "output_type": "stream",
       "stream": "stdout",
       "text": [
        "\n",
        "14\n",
        "Total run time:  15.29s"
       ]
      },
      {
       "output_type": "stream",
       "stream": "stdout",
       "text": [
        "\n",
        "Total run time:  10.74s"
       ]
      },
      {
       "output_type": "stream",
       "stream": "stdout",
       "text": [
        "\n",
        "Total run time:  10.13s"
       ]
      },
      {
       "output_type": "stream",
       "stream": "stdout",
       "text": [
        "\n",
        "15\n",
        "Total run time:  15.58s"
       ]
      },
      {
       "output_type": "stream",
       "stream": "stdout",
       "text": [
        "\n",
        "Total run time:  10.62s"
       ]
      },
      {
       "output_type": "stream",
       "stream": "stdout",
       "text": [
        "\n",
        "Total run time:  10.36s"
       ]
      },
      {
       "output_type": "stream",
       "stream": "stdout",
       "text": [
        "\n",
        "16\n",
        "Total run time:  15.27s"
       ]
      },
      {
       "output_type": "stream",
       "stream": "stdout",
       "text": [
        "\n",
        "Total run time:   9.98s"
       ]
      },
      {
       "output_type": "stream",
       "stream": "stdout",
       "text": [
        "\n",
        "Total run time:   9.81s"
       ]
      },
      {
       "output_type": "stream",
       "stream": "stdout",
       "text": [
        "\n",
        "17\n",
        "Total run time:  14.80s"
       ]
      },
      {
       "output_type": "stream",
       "stream": "stdout",
       "text": [
        "\n",
        "Total run time:   9.70s"
       ]
      },
      {
       "output_type": "stream",
       "stream": "stdout",
       "text": [
        "\n",
        "Total run time:   9.62s"
       ]
      },
      {
       "output_type": "stream",
       "stream": "stdout",
       "text": [
        "\n",
        "18\n",
        "Total run time:  14.36s"
       ]
      },
      {
       "output_type": "stream",
       "stream": "stdout",
       "text": [
        "\n",
        "Total run time:   9.62s"
       ]
      },
      {
       "output_type": "stream",
       "stream": "stdout",
       "text": [
        "\n",
        "Total run time:   9.57s"
       ]
      },
      {
       "output_type": "stream",
       "stream": "stdout",
       "text": [
        "\n",
        "19\n",
        "Total run time:  14.45s"
       ]
      },
      {
       "output_type": "stream",
       "stream": "stdout",
       "text": [
        "\n",
        "Total run time:   9.66s"
       ]
      },
      {
       "output_type": "stream",
       "stream": "stdout",
       "text": [
        "\n",
        "Total run time:   9.56s"
       ]
      },
      {
       "output_type": "stream",
       "stream": "stdout",
       "text": [
        "\n"
       ]
      }
     ],
     "prompt_number": 4
    },
    {
     "cell_type": "code",
     "collapsed": false,
     "input": [
      "fig, axes = subplots(figsize=(12,8))\n",
      "\n",
      "axes.plot(t, D_gae, label='Gaussian ad. elimination')\n",
      "axes.plot(t, D_doe, label='Density op. expansion')\n",
      "axes.set_xlabel('Time')\n",
      "axes.set_ylabel('Trace distance')\n",
      "axes.legend(loc=0)"
     ],
     "language": "python",
     "metadata": {},
     "outputs": [
      {
       "metadata": {},
       "output_type": "pyout",
       "prompt_number": 5,
       "text": [
        "<matplotlib.legend.Legend at 0x109fccd10>"
       ]
      },
      {
       "metadata": {},
       "output_type": "display_data",
       "png": "[encoded data removed]",
       "text": [
        "<matplotlib.figure.Figure at 0x109ee0150>"
       ]
      }
     ],
     "prompt_number": 5
    },
    {
     "cell_type": "heading",
     "level": 4,
     "metadata": {},
     "source": [
      "Calculating average trace distance -- time averaging"
     ]
    },
    {
     "cell_type": "heading",
     "level": 5,
     "metadata": {},
     "source": [
      "Erorr with Gaussian adiabatic elimination"
     ]
    },
    {
     "cell_type": "code",
     "collapsed": false,
     "input": [
      "D_gae_time = D_gae.sum()/Nsteps\n",
      "print D_gae_time"
     ],
     "language": "python",
     "metadata": {},
     "outputs": [
      {
       "output_type": "stream",
       "stream": "stdout",
       "text": [
        "0.0463270610447\n"
       ]
      }
     ],
     "prompt_number": 6
    },
    {
     "cell_type": "heading",
     "level": 5,
     "metadata": {},
     "source": [
      "Error with density operator expansion"
     ]
    },
    {
     "cell_type": "code",
     "collapsed": false,
     "input": [
      "D_doe_time = D_doe.sum()/Nsteps\n",
      "print D_doe_time"
     ],
     "language": "python",
     "metadata": {},
     "outputs": [
      {
       "output_type": "stream",
       "stream": "stdout",
       "text": [
        "0.137791289635\n"
       ]
      }
     ],
     "prompt_number": 7
    }
   ],
   "metadata": {}
  }
 ]
}
